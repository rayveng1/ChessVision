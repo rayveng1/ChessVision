{
 "cells": [
  {
   "cell_type": "code",
   "execution_count": null,
   "id": "4b4dbd0e-e9ad-4acb-add4-c2ef43a73d01",
   "metadata": {},
   "outputs": [],
   "source": [
    "# 1) Split board into 64 segments\n",
    "# 2) Infrence upon each image\n",
    "# 3) Results pushed to images and text\n",
    "# 4) Push results into array, text file is closed"
   ]
  },
  {
   "cell_type": "code",
   "execution_count": 1,
   "id": "01c1e5ae-eea4-46a6-b27c-19b04c3bdd4b",
   "metadata": {},
   "outputs": [
    {
     "name": "stdout",
     "output_type": "stream",
     "text": [
      "Requirement already satisfied: albumentations in /Library/Frameworks/Python.framework/Versions/3.11/lib/python3.11/site-packages (from -r requirements_CPU.txt (line 2)) (1.3.0)\n",
      "Requirement already satisfied: ipython in /Library/Frameworks/Python.framework/Versions/3.11/lib/python3.11/site-packages (from -r requirements_CPU.txt (line 3)) (8.12.0)\n",
      "Requirement already satisfied: jupyter in /Library/Frameworks/Python.framework/Versions/3.11/lib/python3.11/site-packages (from -r requirements_CPU.txt (line 4)) (1.0.0)\n",
      "Requirement already satisfied: matplotlib in /Library/Frameworks/Python.framework/Versions/3.11/lib/python3.11/site-packages (from -r requirements_CPU.txt (line 5)) (3.7.1)\n",
      "Requirement already satisfied: opencv-python in /Library/Frameworks/Python.framework/Versions/3.11/lib/python3.11/site-packages (from -r requirements_CPU.txt (line 6)) (4.7.0.72)\n",
      "Requirement already satisfied: opencv-python-headless in /Library/Frameworks/Python.framework/Versions/3.11/lib/python3.11/site-packages (from -r requirements_CPU.txt (line 7)) (4.7.0.72)\n",
      "Requirement already satisfied: Pillow in /Library/Frameworks/Python.framework/Versions/3.11/lib/python3.11/site-packages (from -r requirements_CPU.txt (line 8)) (9.5.0)\n",
      "Requirement already satisfied: PyYAML in /Library/Frameworks/Python.framework/Versions/3.11/lib/python3.11/site-packages (from -r requirements_CPU.txt (line 9)) (6.0)\n",
      "Requirement already satisfied: scikit-image in /Library/Frameworks/Python.framework/Versions/3.11/lib/python3.11/site-packages (from -r requirements_CPU.txt (line 10)) (0.20.0)\n",
      "Requirement already satisfied: scikit-learn in /Library/Frameworks/Python.framework/Versions/3.11/lib/python3.11/site-packages (from -r requirements_CPU.txt (line 11)) (1.2.2)\n",
      "Requirement already satisfied: scipy in /Library/Frameworks/Python.framework/Versions/3.11/lib/python3.11/site-packages (from -r requirements_CPU.txt (line 12)) (1.10.1)\n",
      "Requirement already satisfied: torch in /Library/Frameworks/Python.framework/Versions/3.11/lib/python3.11/site-packages (from -r requirements_CPU.txt (line 13)) (2.0.0)\n",
      "Requirement already satisfied: torchvision in /Library/Frameworks/Python.framework/Versions/3.11/lib/python3.11/site-packages (from -r requirements_CPU.txt (line 14)) (0.15.1)\n",
      "Requirement already satisfied: torchaudio in /Library/Frameworks/Python.framework/Versions/3.11/lib/python3.11/site-packages (from -r requirements_CPU.txt (line 15)) (2.0.1)\n",
      "Requirement already satisfied: numpy in /Library/Frameworks/Python.framework/Versions/3.11/lib/python3.11/site-packages (from -r requirements_CPU.txt (line 16)) (1.24.2)\n",
      "Requirement already satisfied: protobuf in /Library/Frameworks/Python.framework/Versions/3.11/lib/python3.11/site-packages (from -r requirements_CPU.txt (line 17)) (4.22.3)\n",
      "Requirement already satisfied: pandas in /Library/Frameworks/Python.framework/Versions/3.11/lib/python3.11/site-packages (from -r requirements_CPU.txt (line 18)) (2.0.0)\n",
      "Requirement already satisfied: tqdm in /Library/Frameworks/Python.framework/Versions/3.11/lib/python3.11/site-packages (from -r requirements_CPU.txt (line 19)) (4.65.0)\n",
      "Requirement already satisfied: roboflow in /Library/Frameworks/Python.framework/Versions/3.11/lib/python3.11/site-packages (from -r requirements_CPU.txt (line 20)) (1.0.5)\n",
      "Requirement already satisfied: wandb in /Library/Frameworks/Python.framework/Versions/3.11/lib/python3.11/site-packages (from -r requirements_CPU.txt (line 23)) (0.15.0)\n",
      "Requirement already satisfied: tensorboard in /Library/Frameworks/Python.framework/Versions/3.11/lib/python3.11/site-packages (from -r requirements_CPU.txt (line 24)) (2.12.2)\n",
      "Requirement already satisfied: pycocotools in /Library/Frameworks/Python.framework/Versions/3.11/lib/python3.11/site-packages (from -r requirements_CPU.txt (line 27)) (2.0.6)\n",
      "Requirement already satisfied: setuptools in /Library/Frameworks/Python.framework/Versions/3.11/lib/python3.11/site-packages (from -r requirements_CPU.txt (line 28)) (65.5.0)\n",
      "Requirement already satisfied: torchmetrics in /Library/Frameworks/Python.framework/Versions/3.11/lib/python3.11/site-packages (from -r requirements_CPU.txt (line 29)) (0.11.4)\n",
      "Requirement already satisfied: vision_transformers in /Library/Frameworks/Python.framework/Versions/3.11/lib/python3.11/site-packages (from -r requirements_CPU.txt (line 30)) (0.1.1.0)\n",
      "Requirement already satisfied: image-slicer in /Library/Frameworks/Python.framework/Versions/3.11/lib/python3.11/site-packages (from -r requirements_CPU.txt (line 31)) (0.3.0)\n",
      "Requirement already satisfied: torchinfo in /Library/Frameworks/Python.framework/Versions/3.11/lib/python3.11/site-packages (from -r requirements_CPU.txt (line 34)) (1.7.2)\n",
      "Requirement already satisfied: qudida>=0.0.4 in /Library/Frameworks/Python.framework/Versions/3.11/lib/python3.11/site-packages (from albumentations->-r requirements_CPU.txt (line 2)) (0.0.4)\n",
      "Requirement already satisfied: backcall in /Library/Frameworks/Python.framework/Versions/3.11/lib/python3.11/site-packages (from ipython->-r requirements_CPU.txt (line 3)) (0.2.0)\n",
      "Requirement already satisfied: decorator in /Library/Frameworks/Python.framework/Versions/3.11/lib/python3.11/site-packages (from ipython->-r requirements_CPU.txt (line 3)) (5.1.1)\n",
      "Requirement already satisfied: jedi>=0.16 in /Library/Frameworks/Python.framework/Versions/3.11/lib/python3.11/site-packages (from ipython->-r requirements_CPU.txt (line 3)) (0.18.2)\n",
      "Requirement already satisfied: matplotlib-inline in /Library/Frameworks/Python.framework/Versions/3.11/lib/python3.11/site-packages (from ipython->-r requirements_CPU.txt (line 3)) (0.1.6)\n",
      "Requirement already satisfied: pickleshare in /Library/Frameworks/Python.framework/Versions/3.11/lib/python3.11/site-packages (from ipython->-r requirements_CPU.txt (line 3)) (0.7.5)\n",
      "Requirement already satisfied: prompt-toolkit!=3.0.37,<3.1.0,>=3.0.30 in /Library/Frameworks/Python.framework/Versions/3.11/lib/python3.11/site-packages (from ipython->-r requirements_CPU.txt (line 3)) (3.0.38)\n",
      "Requirement already satisfied: pygments>=2.4.0 in /Library/Frameworks/Python.framework/Versions/3.11/lib/python3.11/site-packages (from ipython->-r requirements_CPU.txt (line 3)) (2.15.1)\n",
      "Requirement already satisfied: stack-data in /Library/Frameworks/Python.framework/Versions/3.11/lib/python3.11/site-packages (from ipython->-r requirements_CPU.txt (line 3)) (0.6.2)\n",
      "Requirement already satisfied: traitlets>=5 in /Library/Frameworks/Python.framework/Versions/3.11/lib/python3.11/site-packages (from ipython->-r requirements_CPU.txt (line 3)) (5.9.0)\n",
      "Requirement already satisfied: pexpect>4.3 in /Library/Frameworks/Python.framework/Versions/3.11/lib/python3.11/site-packages (from ipython->-r requirements_CPU.txt (line 3)) (4.8.0)\n",
      "Requirement already satisfied: appnope in /Library/Frameworks/Python.framework/Versions/3.11/lib/python3.11/site-packages (from ipython->-r requirements_CPU.txt (line 3)) (0.1.3)\n",
      "Requirement already satisfied: notebook in /Library/Frameworks/Python.framework/Versions/3.11/lib/python3.11/site-packages (from jupyter->-r requirements_CPU.txt (line 4)) (6.5.4)\n",
      "Requirement already satisfied: qtconsole in /Library/Frameworks/Python.framework/Versions/3.11/lib/python3.11/site-packages (from jupyter->-r requirements_CPU.txt (line 4)) (5.4.2)\n",
      "Requirement already satisfied: jupyter-console in /Library/Frameworks/Python.framework/Versions/3.11/lib/python3.11/site-packages (from jupyter->-r requirements_CPU.txt (line 4)) (6.6.3)\n",
      "Requirement already satisfied: nbconvert in /Library/Frameworks/Python.framework/Versions/3.11/lib/python3.11/site-packages (from jupyter->-r requirements_CPU.txt (line 4)) (7.3.1)\n",
      "Requirement already satisfied: ipykernel in /Library/Frameworks/Python.framework/Versions/3.11/lib/python3.11/site-packages (from jupyter->-r requirements_CPU.txt (line 4)) (6.22.0)\n",
      "Requirement already satisfied: ipywidgets in /Library/Frameworks/Python.framework/Versions/3.11/lib/python3.11/site-packages (from jupyter->-r requirements_CPU.txt (line 4)) (8.0.6)\n",
      "Requirement already satisfied: contourpy>=1.0.1 in /Library/Frameworks/Python.framework/Versions/3.11/lib/python3.11/site-packages (from matplotlib->-r requirements_CPU.txt (line 5)) (1.0.7)\n",
      "Requirement already satisfied: cycler>=0.10 in /Library/Frameworks/Python.framework/Versions/3.11/lib/python3.11/site-packages (from matplotlib->-r requirements_CPU.txt (line 5)) (0.10.0)\n",
      "Requirement already satisfied: fonttools>=4.22.0 in /Library/Frameworks/Python.framework/Versions/3.11/lib/python3.11/site-packages (from matplotlib->-r requirements_CPU.txt (line 5)) (4.39.3)\n",
      "Requirement already satisfied: kiwisolver>=1.0.1 in /Library/Frameworks/Python.framework/Versions/3.11/lib/python3.11/site-packages (from matplotlib->-r requirements_CPU.txt (line 5)) (1.4.4)\n",
      "Requirement already satisfied: packaging>=20.0 in /Library/Frameworks/Python.framework/Versions/3.11/lib/python3.11/site-packages (from matplotlib->-r requirements_CPU.txt (line 5)) (23.1)\n",
      "Requirement already satisfied: pyparsing>=2.3.1 in /Library/Frameworks/Python.framework/Versions/3.11/lib/python3.11/site-packages (from matplotlib->-r requirements_CPU.txt (line 5)) (2.4.7)\n",
      "Requirement already satisfied: python-dateutil>=2.7 in /Library/Frameworks/Python.framework/Versions/3.11/lib/python3.11/site-packages (from matplotlib->-r requirements_CPU.txt (line 5)) (2.8.2)\n",
      "Requirement already satisfied: networkx>=2.8 in /Library/Frameworks/Python.framework/Versions/3.11/lib/python3.11/site-packages (from scikit-image->-r requirements_CPU.txt (line 10)) (3.1)\n",
      "Requirement already satisfied: imageio>=2.4.1 in /Library/Frameworks/Python.framework/Versions/3.11/lib/python3.11/site-packages (from scikit-image->-r requirements_CPU.txt (line 10)) (2.27.0)\n",
      "Requirement already satisfied: tifffile>=2019.7.26 in /Library/Frameworks/Python.framework/Versions/3.11/lib/python3.11/site-packages (from scikit-image->-r requirements_CPU.txt (line 10)) (2023.4.12)\n",
      "Requirement already satisfied: PyWavelets>=1.1.1 in /Library/Frameworks/Python.framework/Versions/3.11/lib/python3.11/site-packages (from scikit-image->-r requirements_CPU.txt (line 10)) (1.4.1)\n",
      "Requirement already satisfied: lazy_loader>=0.1 in /Library/Frameworks/Python.framework/Versions/3.11/lib/python3.11/site-packages (from scikit-image->-r requirements_CPU.txt (line 10)) (0.2)\n",
      "Requirement already satisfied: joblib>=1.1.1 in /Library/Frameworks/Python.framework/Versions/3.11/lib/python3.11/site-packages (from scikit-learn->-r requirements_CPU.txt (line 11)) (1.2.0)\n",
      "Requirement already satisfied: threadpoolctl>=2.0.0 in /Library/Frameworks/Python.framework/Versions/3.11/lib/python3.11/site-packages (from scikit-learn->-r requirements_CPU.txt (line 11)) (3.1.0)\n",
      "Requirement already satisfied: filelock in /Library/Frameworks/Python.framework/Versions/3.11/lib/python3.11/site-packages (from torch->-r requirements_CPU.txt (line 13)) (3.12.0)\n",
      "Requirement already satisfied: typing-extensions in /Library/Frameworks/Python.framework/Versions/3.11/lib/python3.11/site-packages (from torch->-r requirements_CPU.txt (line 13)) (4.5.0)\n",
      "Requirement already satisfied: sympy in /Library/Frameworks/Python.framework/Versions/3.11/lib/python3.11/site-packages (from torch->-r requirements_CPU.txt (line 13)) (1.11.1)\n",
      "Requirement already satisfied: jinja2 in /Library/Frameworks/Python.framework/Versions/3.11/lib/python3.11/site-packages (from torch->-r requirements_CPU.txt (line 13)) (3.1.2)\n",
      "Requirement already satisfied: requests in /Library/Frameworks/Python.framework/Versions/3.11/lib/python3.11/site-packages (from torchvision->-r requirements_CPU.txt (line 14)) (2.28.2)\n",
      "Requirement already satisfied: pytz>=2020.1 in /Library/Frameworks/Python.framework/Versions/3.11/lib/python3.11/site-packages (from pandas->-r requirements_CPU.txt (line 18)) (2023.3)\n",
      "Requirement already satisfied: tzdata>=2022.1 in /Library/Frameworks/Python.framework/Versions/3.11/lib/python3.11/site-packages (from pandas->-r requirements_CPU.txt (line 18)) (2023.3)\n",
      "Requirement already satisfied: certifi==2022.12.7 in /Library/Frameworks/Python.framework/Versions/3.11/lib/python3.11/site-packages (from roboflow->-r requirements_CPU.txt (line 20)) (2022.12.7)\n",
      "Requirement already satisfied: chardet==4.0.0 in /Library/Frameworks/Python.framework/Versions/3.11/lib/python3.11/site-packages (from roboflow->-r requirements_CPU.txt (line 20)) (4.0.0)\n",
      "Requirement already satisfied: idna==2.10 in /Library/Frameworks/Python.framework/Versions/3.11/lib/python3.11/site-packages (from roboflow->-r requirements_CPU.txt (line 20)) (2.10)\n",
      "Requirement already satisfied: python-dotenv in /Library/Frameworks/Python.framework/Versions/3.11/lib/python3.11/site-packages (from roboflow->-r requirements_CPU.txt (line 20)) (1.0.0)\n",
      "Requirement already satisfied: six in /Library/Frameworks/Python.framework/Versions/3.11/lib/python3.11/site-packages (from roboflow->-r requirements_CPU.txt (line 20)) (1.16.0)\n",
      "Requirement already satisfied: urllib3>=1.26.6 in /Library/Frameworks/Python.framework/Versions/3.11/lib/python3.11/site-packages (from roboflow->-r requirements_CPU.txt (line 20)) (1.26.15)\n",
      "Requirement already satisfied: wget in /Library/Frameworks/Python.framework/Versions/3.11/lib/python3.11/site-packages (from roboflow->-r requirements_CPU.txt (line 20)) (3.2)\n",
      "Requirement already satisfied: requests-toolbelt in /Library/Frameworks/Python.framework/Versions/3.11/lib/python3.11/site-packages (from roboflow->-r requirements_CPU.txt (line 20)) (0.10.1)\n",
      "Requirement already satisfied: Click!=8.0.0,>=7.0 in /Library/Frameworks/Python.framework/Versions/3.11/lib/python3.11/site-packages (from wandb->-r requirements_CPU.txt (line 23)) (8.1.3)\n",
      "Requirement already satisfied: GitPython!=3.1.29,>=1.0.0 in /Library/Frameworks/Python.framework/Versions/3.11/lib/python3.11/site-packages (from wandb->-r requirements_CPU.txt (line 23)) (3.1.31)\n",
      "Requirement already satisfied: psutil>=5.0.0 in /Library/Frameworks/Python.framework/Versions/3.11/lib/python3.11/site-packages (from wandb->-r requirements_CPU.txt (line 23)) (5.9.5)\n",
      "Requirement already satisfied: sentry-sdk>=1.0.0 in /Library/Frameworks/Python.framework/Versions/3.11/lib/python3.11/site-packages (from wandb->-r requirements_CPU.txt (line 23)) (1.20.0)\n",
      "Requirement already satisfied: docker-pycreds>=0.4.0 in /Library/Frameworks/Python.framework/Versions/3.11/lib/python3.11/site-packages (from wandb->-r requirements_CPU.txt (line 23)) (0.4.0)\n",
      "Requirement already satisfied: pathtools in /Library/Frameworks/Python.framework/Versions/3.11/lib/python3.11/site-packages (from wandb->-r requirements_CPU.txt (line 23)) (0.1.2)\n",
      "Requirement already satisfied: setproctitle in /Library/Frameworks/Python.framework/Versions/3.11/lib/python3.11/site-packages (from wandb->-r requirements_CPU.txt (line 23)) (1.3.2)\n",
      "Requirement already satisfied: appdirs>=1.4.3 in /Library/Frameworks/Python.framework/Versions/3.11/lib/python3.11/site-packages (from wandb->-r requirements_CPU.txt (line 23)) (1.4.4)\n",
      "Requirement already satisfied: absl-py>=0.4 in /Library/Frameworks/Python.framework/Versions/3.11/lib/python3.11/site-packages (from tensorboard->-r requirements_CPU.txt (line 24)) (1.4.0)\n",
      "Requirement already satisfied: grpcio>=1.48.2 in /Library/Frameworks/Python.framework/Versions/3.11/lib/python3.11/site-packages (from tensorboard->-r requirements_CPU.txt (line 24)) (1.54.0)\n",
      "Requirement already satisfied: google-auth<3,>=1.6.3 in /Library/Frameworks/Python.framework/Versions/3.11/lib/python3.11/site-packages (from tensorboard->-r requirements_CPU.txt (line 24)) (2.17.3)\n",
      "Requirement already satisfied: google-auth-oauthlib<1.1,>=0.5 in /Library/Frameworks/Python.framework/Versions/3.11/lib/python3.11/site-packages (from tensorboard->-r requirements_CPU.txt (line 24)) (1.0.0)\n",
      "Requirement already satisfied: markdown>=2.6.8 in /Library/Frameworks/Python.framework/Versions/3.11/lib/python3.11/site-packages (from tensorboard->-r requirements_CPU.txt (line 24)) (3.4.3)\n",
      "Requirement already satisfied: tensorboard-data-server<0.8.0,>=0.7.0 in /Library/Frameworks/Python.framework/Versions/3.11/lib/python3.11/site-packages (from tensorboard->-r requirements_CPU.txt (line 24)) (0.7.0)\n",
      "Requirement already satisfied: tensorboard-plugin-wit>=1.6.0 in /Library/Frameworks/Python.framework/Versions/3.11/lib/python3.11/site-packages (from tensorboard->-r requirements_CPU.txt (line 24)) (1.8.1)\n",
      "Requirement already satisfied: werkzeug>=1.0.1 in /Library/Frameworks/Python.framework/Versions/3.11/lib/python3.11/site-packages (from tensorboard->-r requirements_CPU.txt (line 24)) (2.2.3)\n",
      "Requirement already satisfied: wheel>=0.26 in /Library/Frameworks/Python.framework/Versions/3.11/lib/python3.11/site-packages (from tensorboard->-r requirements_CPU.txt (line 24)) (0.40.0)\n",
      "Requirement already satisfied: gitdb<5,>=4.0.1 in /Library/Frameworks/Python.framework/Versions/3.11/lib/python3.11/site-packages (from GitPython!=3.1.29,>=1.0.0->wandb->-r requirements_CPU.txt (line 23)) (4.0.10)\n",
      "Requirement already satisfied: cachetools<6.0,>=2.0.0 in /Library/Frameworks/Python.framework/Versions/3.11/lib/python3.11/site-packages (from google-auth<3,>=1.6.3->tensorboard->-r requirements_CPU.txt (line 24)) (5.3.0)\n",
      "Requirement already satisfied: pyasn1-modules>=0.2.1 in /Library/Frameworks/Python.framework/Versions/3.11/lib/python3.11/site-packages (from google-auth<3,>=1.6.3->tensorboard->-r requirements_CPU.txt (line 24)) (0.3.0)\n",
      "Requirement already satisfied: rsa<5,>=3.1.4 in /Library/Frameworks/Python.framework/Versions/3.11/lib/python3.11/site-packages (from google-auth<3,>=1.6.3->tensorboard->-r requirements_CPU.txt (line 24)) (4.9)\n",
      "Requirement already satisfied: requests-oauthlib>=0.7.0 in /Library/Frameworks/Python.framework/Versions/3.11/lib/python3.11/site-packages (from google-auth-oauthlib<1.1,>=0.5->tensorboard->-r requirements_CPU.txt (line 24)) (1.3.1)\n",
      "Requirement already satisfied: parso<0.9.0,>=0.8.0 in /Library/Frameworks/Python.framework/Versions/3.11/lib/python3.11/site-packages (from jedi>=0.16->ipython->-r requirements_CPU.txt (line 3)) (0.8.3)\n",
      "Requirement already satisfied: ptyprocess>=0.5 in /Library/Frameworks/Python.framework/Versions/3.11/lib/python3.11/site-packages (from pexpect>4.3->ipython->-r requirements_CPU.txt (line 3)) (0.7.0)\n",
      "Requirement already satisfied: wcwidth in /Library/Frameworks/Python.framework/Versions/3.11/lib/python3.11/site-packages (from prompt-toolkit!=3.0.37,<3.1.0,>=3.0.30->ipython->-r requirements_CPU.txt (line 3)) (0.2.6)\n",
      "Requirement already satisfied: charset-normalizer<4,>=2 in /Library/Frameworks/Python.framework/Versions/3.11/lib/python3.11/site-packages (from requests->torchvision->-r requirements_CPU.txt (line 14)) (3.1.0)\n",
      "Requirement already satisfied: MarkupSafe>=2.1.1 in /Library/Frameworks/Python.framework/Versions/3.11/lib/python3.11/site-packages (from werkzeug>=1.0.1->tensorboard->-r requirements_CPU.txt (line 24)) (2.1.2)\n",
      "Requirement already satisfied: comm>=0.1.1 in /Library/Frameworks/Python.framework/Versions/3.11/lib/python3.11/site-packages (from ipykernel->jupyter->-r requirements_CPU.txt (line 4)) (0.1.3)\n",
      "Requirement already satisfied: debugpy>=1.6.5 in /Library/Frameworks/Python.framework/Versions/3.11/lib/python3.11/site-packages (from ipykernel->jupyter->-r requirements_CPU.txt (line 4)) (1.6.7)\n",
      "Requirement already satisfied: jupyter-client>=6.1.12 in /Library/Frameworks/Python.framework/Versions/3.11/lib/python3.11/site-packages (from ipykernel->jupyter->-r requirements_CPU.txt (line 4)) (8.2.0)\n",
      "Requirement already satisfied: jupyter-core!=5.0.*,>=4.12 in /Library/Frameworks/Python.framework/Versions/3.11/lib/python3.11/site-packages (from ipykernel->jupyter->-r requirements_CPU.txt (line 4)) (5.3.0)\n",
      "Requirement already satisfied: nest-asyncio in /Library/Frameworks/Python.framework/Versions/3.11/lib/python3.11/site-packages (from ipykernel->jupyter->-r requirements_CPU.txt (line 4)) (1.5.6)\n",
      "Requirement already satisfied: pyzmq>=20 in /Library/Frameworks/Python.framework/Versions/3.11/lib/python3.11/site-packages (from ipykernel->jupyter->-r requirements_CPU.txt (line 4)) (25.0.2)\n",
      "Requirement already satisfied: tornado>=6.1 in /Library/Frameworks/Python.framework/Versions/3.11/lib/python3.11/site-packages (from ipykernel->jupyter->-r requirements_CPU.txt (line 4)) (6.3)\n",
      "Requirement already satisfied: widgetsnbextension~=4.0.7 in /Library/Frameworks/Python.framework/Versions/3.11/lib/python3.11/site-packages (from ipywidgets->jupyter->-r requirements_CPU.txt (line 4)) (4.0.7)\n",
      "Requirement already satisfied: jupyterlab-widgets~=3.0.7 in /Library/Frameworks/Python.framework/Versions/3.11/lib/python3.11/site-packages (from ipywidgets->jupyter->-r requirements_CPU.txt (line 4)) (3.0.7)\n",
      "Requirement already satisfied: beautifulsoup4 in /Library/Frameworks/Python.framework/Versions/3.11/lib/python3.11/site-packages (from nbconvert->jupyter->-r requirements_CPU.txt (line 4)) (4.12.2)\n",
      "Requirement already satisfied: bleach in /Library/Frameworks/Python.framework/Versions/3.11/lib/python3.11/site-packages (from nbconvert->jupyter->-r requirements_CPU.txt (line 4)) (6.0.0)\n",
      "Requirement already satisfied: defusedxml in /Library/Frameworks/Python.framework/Versions/3.11/lib/python3.11/site-packages (from nbconvert->jupyter->-r requirements_CPU.txt (line 4)) (0.7.1)\n",
      "Requirement already satisfied: jupyterlab-pygments in /Library/Frameworks/Python.framework/Versions/3.11/lib/python3.11/site-packages (from nbconvert->jupyter->-r requirements_CPU.txt (line 4)) (0.2.2)\n",
      "Requirement already satisfied: mistune<3,>=2.0.3 in /Library/Frameworks/Python.framework/Versions/3.11/lib/python3.11/site-packages (from nbconvert->jupyter->-r requirements_CPU.txt (line 4)) (2.0.5)\n",
      "Requirement already satisfied: nbclient>=0.5.0 in /Library/Frameworks/Python.framework/Versions/3.11/lib/python3.11/site-packages (from nbconvert->jupyter->-r requirements_CPU.txt (line 4)) (0.7.3)\n",
      "Requirement already satisfied: nbformat>=5.1 in /Library/Frameworks/Python.framework/Versions/3.11/lib/python3.11/site-packages (from nbconvert->jupyter->-r requirements_CPU.txt (line 4)) (5.8.0)\n",
      "Requirement already satisfied: pandocfilters>=1.4.1 in /Library/Frameworks/Python.framework/Versions/3.11/lib/python3.11/site-packages (from nbconvert->jupyter->-r requirements_CPU.txt (line 4)) (1.5.0)\n",
      "Requirement already satisfied: tinycss2 in /Library/Frameworks/Python.framework/Versions/3.11/lib/python3.11/site-packages (from nbconvert->jupyter->-r requirements_CPU.txt (line 4)) (1.2.1)\n",
      "Requirement already satisfied: argon2-cffi in /Library/Frameworks/Python.framework/Versions/3.11/lib/python3.11/site-packages (from notebook->jupyter->-r requirements_CPU.txt (line 4)) (21.3.0)\n",
      "Requirement already satisfied: ipython-genutils in /Library/Frameworks/Python.framework/Versions/3.11/lib/python3.11/site-packages (from notebook->jupyter->-r requirements_CPU.txt (line 4)) (0.2.0)\n",
      "Requirement already satisfied: Send2Trash>=1.8.0 in /Library/Frameworks/Python.framework/Versions/3.11/lib/python3.11/site-packages (from notebook->jupyter->-r requirements_CPU.txt (line 4)) (1.8.0)\n",
      "Requirement already satisfied: terminado>=0.8.3 in /Library/Frameworks/Python.framework/Versions/3.11/lib/python3.11/site-packages (from notebook->jupyter->-r requirements_CPU.txt (line 4)) (0.17.1)\n",
      "Requirement already satisfied: prometheus-client in /Library/Frameworks/Python.framework/Versions/3.11/lib/python3.11/site-packages (from notebook->jupyter->-r requirements_CPU.txt (line 4)) (0.16.0)\n",
      "Requirement already satisfied: nbclassic>=0.4.7 in /Library/Frameworks/Python.framework/Versions/3.11/lib/python3.11/site-packages (from notebook->jupyter->-r requirements_CPU.txt (line 4)) (0.5.5)\n",
      "Requirement already satisfied: qtpy>=2.0.1 in /Library/Frameworks/Python.framework/Versions/3.11/lib/python3.11/site-packages (from qtconsole->jupyter->-r requirements_CPU.txt (line 4)) (2.3.1)\n",
      "Requirement already satisfied: executing>=1.2.0 in /Library/Frameworks/Python.framework/Versions/3.11/lib/python3.11/site-packages (from stack-data->ipython->-r requirements_CPU.txt (line 3)) (1.2.0)\n",
      "Requirement already satisfied: asttokens>=2.1.0 in /Library/Frameworks/Python.framework/Versions/3.11/lib/python3.11/site-packages (from stack-data->ipython->-r requirements_CPU.txt (line 3)) (2.2.1)\n",
      "Requirement already satisfied: pure-eval in /Library/Frameworks/Python.framework/Versions/3.11/lib/python3.11/site-packages (from stack-data->ipython->-r requirements_CPU.txt (line 3)) (0.2.2)\n",
      "Requirement already satisfied: mpmath>=0.19 in /Library/Frameworks/Python.framework/Versions/3.11/lib/python3.11/site-packages (from sympy->torch->-r requirements_CPU.txt (line 13)) (1.3.0)\n",
      "Requirement already satisfied: smmap<6,>=3.0.1 in /Library/Frameworks/Python.framework/Versions/3.11/lib/python3.11/site-packages (from gitdb<5,>=4.0.1->GitPython!=3.1.29,>=1.0.0->wandb->-r requirements_CPU.txt (line 23)) (5.0.0)\n",
      "Requirement already satisfied: platformdirs>=2.5 in /Library/Frameworks/Python.framework/Versions/3.11/lib/python3.11/site-packages (from jupyter-core!=5.0.*,>=4.12->ipykernel->jupyter->-r requirements_CPU.txt (line 4)) (3.2.0)\n",
      "Requirement already satisfied: jupyter-server>=1.8 in /Library/Frameworks/Python.framework/Versions/3.11/lib/python3.11/site-packages (from nbclassic>=0.4.7->notebook->jupyter->-r requirements_CPU.txt (line 4)) (2.5.0)\n",
      "Requirement already satisfied: notebook-shim>=0.1.0 in /Library/Frameworks/Python.framework/Versions/3.11/lib/python3.11/site-packages (from nbclassic>=0.4.7->notebook->jupyter->-r requirements_CPU.txt (line 4)) (0.2.2)\n",
      "Requirement already satisfied: fastjsonschema in /Library/Frameworks/Python.framework/Versions/3.11/lib/python3.11/site-packages (from nbformat>=5.1->nbconvert->jupyter->-r requirements_CPU.txt (line 4)) (2.16.3)\n",
      "Requirement already satisfied: jsonschema>=2.6 in /Library/Frameworks/Python.framework/Versions/3.11/lib/python3.11/site-packages (from nbformat>=5.1->nbconvert->jupyter->-r requirements_CPU.txt (line 4)) (4.17.3)\n",
      "Requirement already satisfied: pyasn1<0.6.0,>=0.4.6 in /Library/Frameworks/Python.framework/Versions/3.11/lib/python3.11/site-packages (from pyasn1-modules>=0.2.1->google-auth<3,>=1.6.3->tensorboard->-r requirements_CPU.txt (line 24)) (0.5.0)\n",
      "Requirement already satisfied: oauthlib>=3.0.0 in /Library/Frameworks/Python.framework/Versions/3.11/lib/python3.11/site-packages (from requests-oauthlib>=0.7.0->google-auth-oauthlib<1.1,>=0.5->tensorboard->-r requirements_CPU.txt (line 24)) (3.2.2)\n",
      "Requirement already satisfied: argon2-cffi-bindings in /Library/Frameworks/Python.framework/Versions/3.11/lib/python3.11/site-packages (from argon2-cffi->notebook->jupyter->-r requirements_CPU.txt (line 4)) (21.2.0)\n",
      "Requirement already satisfied: soupsieve>1.2 in /Library/Frameworks/Python.framework/Versions/3.11/lib/python3.11/site-packages (from beautifulsoup4->nbconvert->jupyter->-r requirements_CPU.txt (line 4)) (2.4.1)\n",
      "Requirement already satisfied: webencodings in /Library/Frameworks/Python.framework/Versions/3.11/lib/python3.11/site-packages (from bleach->nbconvert->jupyter->-r requirements_CPU.txt (line 4)) (0.5.1)\n",
      "Requirement already satisfied: attrs>=17.4.0 in /Library/Frameworks/Python.framework/Versions/3.11/lib/python3.11/site-packages (from jsonschema>=2.6->nbformat>=5.1->nbconvert->jupyter->-r requirements_CPU.txt (line 4)) (23.1.0)\n",
      "Requirement already satisfied: pyrsistent!=0.17.0,!=0.17.1,!=0.17.2,>=0.14.0 in /Library/Frameworks/Python.framework/Versions/3.11/lib/python3.11/site-packages (from jsonschema>=2.6->nbformat>=5.1->nbconvert->jupyter->-r requirements_CPU.txt (line 4)) (0.19.3)\n",
      "Requirement already satisfied: anyio>=3.1.0 in /Library/Frameworks/Python.framework/Versions/3.11/lib/python3.11/site-packages (from jupyter-server>=1.8->nbclassic>=0.4.7->notebook->jupyter->-r requirements_CPU.txt (line 4)) (3.6.2)\n",
      "Requirement already satisfied: jupyter-events>=0.4.0 in /Library/Frameworks/Python.framework/Versions/3.11/lib/python3.11/site-packages (from jupyter-server>=1.8->nbclassic>=0.4.7->notebook->jupyter->-r requirements_CPU.txt (line 4)) (0.6.3)\n",
      "Requirement already satisfied: jupyter-server-terminals in /Library/Frameworks/Python.framework/Versions/3.11/lib/python3.11/site-packages (from jupyter-server>=1.8->nbclassic>=0.4.7->notebook->jupyter->-r requirements_CPU.txt (line 4)) (0.4.4)\n",
      "Requirement already satisfied: websocket-client in /Library/Frameworks/Python.framework/Versions/3.11/lib/python3.11/site-packages (from jupyter-server>=1.8->nbclassic>=0.4.7->notebook->jupyter->-r requirements_CPU.txt (line 4)) (1.5.1)\n",
      "Requirement already satisfied: cffi>=1.0.1 in /Library/Frameworks/Python.framework/Versions/3.11/lib/python3.11/site-packages (from argon2-cffi-bindings->argon2-cffi->notebook->jupyter->-r requirements_CPU.txt (line 4)) (1.15.1)\n",
      "Requirement already satisfied: sniffio>=1.1 in /Library/Frameworks/Python.framework/Versions/3.11/lib/python3.11/site-packages (from anyio>=3.1.0->jupyter-server>=1.8->nbclassic>=0.4.7->notebook->jupyter->-r requirements_CPU.txt (line 4)) (1.3.0)\n",
      "Requirement already satisfied: pycparser in /Library/Frameworks/Python.framework/Versions/3.11/lib/python3.11/site-packages (from cffi>=1.0.1->argon2-cffi-bindings->argon2-cffi->notebook->jupyter->-r requirements_CPU.txt (line 4)) (2.21)\n",
      "Requirement already satisfied: python-json-logger>=2.0.4 in /Library/Frameworks/Python.framework/Versions/3.11/lib/python3.11/site-packages (from jupyter-events>=0.4.0->jupyter-server>=1.8->nbclassic>=0.4.7->notebook->jupyter->-r requirements_CPU.txt (line 4)) (2.0.7)\n",
      "Requirement already satisfied: rfc3339-validator in /Library/Frameworks/Python.framework/Versions/3.11/lib/python3.11/site-packages (from jupyter-events>=0.4.0->jupyter-server>=1.8->nbclassic>=0.4.7->notebook->jupyter->-r requirements_CPU.txt (line 4)) (0.1.4)\n",
      "Requirement already satisfied: rfc3986-validator>=0.1.1 in /Library/Frameworks/Python.framework/Versions/3.11/lib/python3.11/site-packages (from jupyter-events>=0.4.0->jupyter-server>=1.8->nbclassic>=0.4.7->notebook->jupyter->-r requirements_CPU.txt (line 4)) (0.1.1)\n",
      "Requirement already satisfied: fqdn in /Library/Frameworks/Python.framework/Versions/3.11/lib/python3.11/site-packages (from jsonschema>=2.6->nbformat>=5.1->nbconvert->jupyter->-r requirements_CPU.txt (line 4)) (1.5.1)\n",
      "Requirement already satisfied: isoduration in /Library/Frameworks/Python.framework/Versions/3.11/lib/python3.11/site-packages (from jsonschema>=2.6->nbformat>=5.1->nbconvert->jupyter->-r requirements_CPU.txt (line 4)) (20.11.0)\n",
      "Requirement already satisfied: jsonpointer>1.13 in /Library/Frameworks/Python.framework/Versions/3.11/lib/python3.11/site-packages (from jsonschema>=2.6->nbformat>=5.1->nbconvert->jupyter->-r requirements_CPU.txt (line 4)) (2.3)\n",
      "Requirement already satisfied: uri-template in /Library/Frameworks/Python.framework/Versions/3.11/lib/python3.11/site-packages (from jsonschema>=2.6->nbformat>=5.1->nbconvert->jupyter->-r requirements_CPU.txt (line 4)) (1.2.0)\n",
      "Requirement already satisfied: webcolors>=1.11 in /Library/Frameworks/Python.framework/Versions/3.11/lib/python3.11/site-packages (from jsonschema>=2.6->nbformat>=5.1->nbconvert->jupyter->-r requirements_CPU.txt (line 4)) (1.13)\n",
      "Requirement already satisfied: arrow>=0.15.0 in /Library/Frameworks/Python.framework/Versions/3.11/lib/python3.11/site-packages (from isoduration->jsonschema>=2.6->nbformat>=5.1->nbconvert->jupyter->-r requirements_CPU.txt (line 4)) (1.2.3)\n",
      "\n",
      "\u001b[1m[\u001b[0m\u001b[34;49mnotice\u001b[0m\u001b[1;39;49m]\u001b[0m\u001b[39;49m A new release of pip is available: \u001b[0m\u001b[31;49m23.1\u001b[0m\u001b[39;49m -> \u001b[0m\u001b[32;49m23.1.2\u001b[0m\n",
      "\u001b[1m[\u001b[0m\u001b[34;49mnotice\u001b[0m\u001b[1;39;49m]\u001b[0m\u001b[39;49m To update, run: \u001b[0m\u001b[32;49mpip install --upgrade pip\u001b[0m\n",
      "Note: you may need to restart the kernel to use updated packages.\n"
     ]
    }
   ],
   "source": [
    "# installs dependencies, restart kernel afterwards\n",
    "%pip install -r requirements_CPU.txt"
   ]
  },
  {
   "cell_type": "code",
   "execution_count": 94,
   "id": "2eda3708-9b89-4b6f-a5e1-35edcc3fb218",
   "metadata": {},
   "outputs": [
    {
     "data": {
      "text/plain": [
       "(<Tile #1 - chessboard_01_01.png>,\n",
       " <Tile #2 - chessboard_01_02.png>,\n",
       " <Tile #3 - chessboard_01_03.png>,\n",
       " <Tile #4 - chessboard_01_04.png>,\n",
       " <Tile #5 - chessboard_01_05.png>,\n",
       " <Tile #6 - chessboard_01_06.png>,\n",
       " <Tile #7 - chessboard_01_07.png>,\n",
       " <Tile #8 - chessboard_01_08.png>,\n",
       " <Tile #9 - chessboard_02_01.png>,\n",
       " <Tile #10 - chessboard_02_02.png>,\n",
       " <Tile #11 - chessboard_02_03.png>,\n",
       " <Tile #12 - chessboard_02_04.png>,\n",
       " <Tile #13 - chessboard_02_05.png>,\n",
       " <Tile #14 - chessboard_02_06.png>,\n",
       " <Tile #15 - chessboard_02_07.png>,\n",
       " <Tile #16 - chessboard_02_08.png>,\n",
       " <Tile #17 - chessboard_03_01.png>,\n",
       " <Tile #18 - chessboard_03_02.png>,\n",
       " <Tile #19 - chessboard_03_03.png>,\n",
       " <Tile #20 - chessboard_03_04.png>,\n",
       " <Tile #21 - chessboard_03_05.png>,\n",
       " <Tile #22 - chessboard_03_06.png>,\n",
       " <Tile #23 - chessboard_03_07.png>,\n",
       " <Tile #24 - chessboard_03_08.png>,\n",
       " <Tile #25 - chessboard_04_01.png>,\n",
       " <Tile #26 - chessboard_04_02.png>,\n",
       " <Tile #27 - chessboard_04_03.png>,\n",
       " <Tile #28 - chessboard_04_04.png>,\n",
       " <Tile #29 - chessboard_04_05.png>,\n",
       " <Tile #30 - chessboard_04_06.png>,\n",
       " <Tile #31 - chessboard_04_07.png>,\n",
       " <Tile #32 - chessboard_04_08.png>,\n",
       " <Tile #33 - chessboard_05_01.png>,\n",
       " <Tile #34 - chessboard_05_02.png>,\n",
       " <Tile #35 - chessboard_05_03.png>,\n",
       " <Tile #36 - chessboard_05_04.png>,\n",
       " <Tile #37 - chessboard_05_05.png>,\n",
       " <Tile #38 - chessboard_05_06.png>,\n",
       " <Tile #39 - chessboard_05_07.png>,\n",
       " <Tile #40 - chessboard_05_08.png>,\n",
       " <Tile #41 - chessboard_06_01.png>,\n",
       " <Tile #42 - chessboard_06_02.png>,\n",
       " <Tile #43 - chessboard_06_03.png>,\n",
       " <Tile #44 - chessboard_06_04.png>,\n",
       " <Tile #45 - chessboard_06_05.png>,\n",
       " <Tile #46 - chessboard_06_06.png>,\n",
       " <Tile #47 - chessboard_06_07.png>,\n",
       " <Tile #48 - chessboard_06_08.png>,\n",
       " <Tile #49 - chessboard_07_01.png>,\n",
       " <Tile #50 - chessboard_07_02.png>,\n",
       " <Tile #51 - chessboard_07_03.png>,\n",
       " <Tile #52 - chessboard_07_04.png>,\n",
       " <Tile #53 - chessboard_07_05.png>,\n",
       " <Tile #54 - chessboard_07_06.png>,\n",
       " <Tile #55 - chessboard_07_07.png>,\n",
       " <Tile #56 - chessboard_07_08.png>,\n",
       " <Tile #57 - chessboard_08_01.png>,\n",
       " <Tile #58 - chessboard_08_02.png>,\n",
       " <Tile #59 - chessboard_08_03.png>,\n",
       " <Tile #60 - chessboard_08_04.png>,\n",
       " <Tile #61 - chessboard_08_05.png>,\n",
       " <Tile #62 - chessboard_08_06.png>,\n",
       " <Tile #63 - chessboard_08_07.png>,\n",
       " <Tile #64 - chessboard_08_08.png>)"
      ]
     },
     "execution_count": 94,
     "metadata": {},
     "output_type": "execute_result"
    }
   ],
   "source": [
    "# import image slicer library and segment original image into 64 seperate peices, ideally the 64 boxes on the chess board\n",
    "# does not need to be ran every time once splits are created\n",
    "import image_slicer\n",
    "image_slicer.slice('chessboard_splits/chessboard.jpg', 64)"
   ]
  },
  {
   "cell_type": "code",
   "execution_count": 95,
   "id": "209dc357",
   "metadata": {},
   "outputs": [
    {
     "name": "stdout",
     "output_type": "stream",
     "text": [
      "14238.79s - pydevd: Sending message related to process being replaced timed-out after 5 seconds\n"
     ]
    }
   ],
   "source": [
    "# libpng will compain about sRGB profiles so it is neccesary to use imageMagicks mogrify to remove the iCCP chunk from the split images.\n",
    "# Binaries for Linux/MacOS and Windows are included in the \"magick\" directory. ImageMagick is REQUIRED to run this block. See here for details: https://imagemagick.org/script/download.php#linux\n",
    "# It IS possible to continue without running this block.\n",
    "\n",
    "# vvv UNCOMMENT BELOW FOR INSTALLING IMAGEMAGICK ON MACOS vvv\n",
    "\n",
    "#!brew install imagemagick\n",
    "#!brew install ghostscript\n",
    "\n",
    "# For Linux and Windows, install ImageMagick with the executables in the \"magick\" directory\n",
    "\n",
    "!mogrify chessboard_splits/*.png"
   ]
  },
  {
   "cell_type": "code",
   "execution_count": 104,
   "id": "9b3510cd-f442-409c-9919-d905f7321ab9",
   "metadata": {
    "tags": []
   },
   "outputs": [
    {
     "name": "stdout",
     "output_type": "stream",
     "text": [
      "loading Roboflow workspace...\n",
      "loading Roboflow project...\n",
      "[{'x': 180.5, 'y': 267.5, 'width': 271.0, 'height': 511.0, 'confidence': 0.9011098146438599, 'class': 'White-Queen', 'image_path': '/Users/connorscally/Documents/GitHub/ChessVision/BoardDigitizer/chessboard_splits/chessboard.jpg', 'prediction_type': 'ObjectDetectionModel'}]\n"
     ]
    }
   ],
   "source": [
    "# running model on each image created by image_slicer\n",
    "import os\n",
    "from PIL import Image\n",
    "from os import listdir\n",
    "from roboflow import Roboflow\n",
    "rf = Roboflow(api_key=\"0uya8edueMEE3249OloG\")\n",
    "project = rf.workspace().project(\"piece-detection-rayven\")\n",
    "model = project.version(4).model\n",
    "\n",
    "text_file = open(\"classes.txt\", \"w\")\n",
    "\n",
    "path = \"/Users/connorscally/Documents/GitHub/ChessVision/BoardDigitizer/chessboard_splits/\"\n",
    "\n",
    "for image in os.listdir(path):\n",
    "    image = path + image\n",
    "    prediction = (model.predict(image, confidence=40, overlap=30).json())\n",
    "    eval = prediction[\"predictions\"][0][\"class\"]\n",
    "    print(prediction[\"predictions\"])\n",
    "    # writes class names assigned during image evaluation to a text file as long as class names are a chess piece, if not, 0 is written instead\n",
    "    \n",
    "    if eval=='background' or eval=='Background' or eval =='':\n",
    "        text_file.write('0')\n",
    "        text_file.write('\\n')\n",
    "    \n",
    "    else:\n",
    "        text_file.write(eval)\n",
    "        text_file.write('\\n')\n",
    "\n",
    "text_file.close()"
   ]
  },
  {
   "cell_type": "code",
   "execution_count": 105,
   "id": "11d849d5-8f7b-4740-a4cf-95f25b25c976",
   "metadata": {},
   "outputs": [
    {
     "name": "stdout",
     "output_type": "stream",
     "text": [
      "White-Queen\n"
     ]
    }
   ],
   "source": [
    "import numpy as np\n",
    "\n",
    "# Text file data converted to string data type\n",
    "piece_array = np.loadtxt(\"classes.txt\", dtype=str)\n",
    "print(piece_array)"
   ]
  },
  {
   "cell_type": "code",
   "execution_count": null,
   "id": "e5d8576c",
   "metadata": {},
   "outputs": [],
   "source": []
  }
 ],
 "metadata": {
  "availableInstances": [
   {
    "_defaultOrder": 0,
    "_isFastLaunch": true,
    "category": "General purpose",
    "gpuNum": 0,
    "memoryGiB": 4,
    "name": "ml.t3.medium",
    "vcpuNum": 2
   },
   {
    "_defaultOrder": 1,
    "_isFastLaunch": false,
    "category": "General purpose",
    "gpuNum": 0,
    "memoryGiB": 8,
    "name": "ml.t3.large",
    "vcpuNum": 2
   },
   {
    "_defaultOrder": 2,
    "_isFastLaunch": false,
    "category": "General purpose",
    "gpuNum": 0,
    "memoryGiB": 16,
    "name": "ml.t3.xlarge",
    "vcpuNum": 4
   },
   {
    "_defaultOrder": 3,
    "_isFastLaunch": false,
    "category": "General purpose",
    "gpuNum": 0,
    "memoryGiB": 32,
    "name": "ml.t3.2xlarge",
    "vcpuNum": 8
   },
   {
    "_defaultOrder": 4,
    "_isFastLaunch": true,
    "category": "General purpose",
    "gpuNum": 0,
    "memoryGiB": 8,
    "name": "ml.m5.large",
    "vcpuNum": 2
   },
   {
    "_defaultOrder": 5,
    "_isFastLaunch": false,
    "category": "General purpose",
    "gpuNum": 0,
    "memoryGiB": 16,
    "name": "ml.m5.xlarge",
    "vcpuNum": 4
   },
   {
    "_defaultOrder": 6,
    "_isFastLaunch": false,
    "category": "General purpose",
    "gpuNum": 0,
    "memoryGiB": 32,
    "name": "ml.m5.2xlarge",
    "vcpuNum": 8
   },
   {
    "_defaultOrder": 7,
    "_isFastLaunch": false,
    "category": "General purpose",
    "gpuNum": 0,
    "memoryGiB": 64,
    "name": "ml.m5.4xlarge",
    "vcpuNum": 16
   },
   {
    "_defaultOrder": 8,
    "_isFastLaunch": false,
    "category": "General purpose",
    "gpuNum": 0,
    "memoryGiB": 128,
    "name": "ml.m5.8xlarge",
    "vcpuNum": 32
   },
   {
    "_defaultOrder": 9,
    "_isFastLaunch": false,
    "category": "General purpose",
    "gpuNum": 0,
    "memoryGiB": 192,
    "name": "ml.m5.12xlarge",
    "vcpuNum": 48
   },
   {
    "_defaultOrder": 10,
    "_isFastLaunch": false,
    "category": "General purpose",
    "gpuNum": 0,
    "memoryGiB": 256,
    "name": "ml.m5.16xlarge",
    "vcpuNum": 64
   },
   {
    "_defaultOrder": 11,
    "_isFastLaunch": false,
    "category": "General purpose",
    "gpuNum": 0,
    "memoryGiB": 384,
    "name": "ml.m5.24xlarge",
    "vcpuNum": 96
   },
   {
    "_defaultOrder": 12,
    "_isFastLaunch": false,
    "category": "General purpose",
    "gpuNum": 0,
    "memoryGiB": 8,
    "name": "ml.m5d.large",
    "vcpuNum": 2
   },
   {
    "_defaultOrder": 13,
    "_isFastLaunch": false,
    "category": "General purpose",
    "gpuNum": 0,
    "memoryGiB": 16,
    "name": "ml.m5d.xlarge",
    "vcpuNum": 4
   },
   {
    "_defaultOrder": 14,
    "_isFastLaunch": false,
    "category": "General purpose",
    "gpuNum": 0,
    "memoryGiB": 32,
    "name": "ml.m5d.2xlarge",
    "vcpuNum": 8
   },
   {
    "_defaultOrder": 15,
    "_isFastLaunch": false,
    "category": "General purpose",
    "gpuNum": 0,
    "memoryGiB": 64,
    "name": "ml.m5d.4xlarge",
    "vcpuNum": 16
   },
   {
    "_defaultOrder": 16,
    "_isFastLaunch": false,
    "category": "General purpose",
    "gpuNum": 0,
    "memoryGiB": 128,
    "name": "ml.m5d.8xlarge",
    "vcpuNum": 32
   },
   {
    "_defaultOrder": 17,
    "_isFastLaunch": false,
    "category": "General purpose",
    "gpuNum": 0,
    "memoryGiB": 192,
    "name": "ml.m5d.12xlarge",
    "vcpuNum": 48
   },
   {
    "_defaultOrder": 18,
    "_isFastLaunch": false,
    "category": "General purpose",
    "gpuNum": 0,
    "memoryGiB": 256,
    "name": "ml.m5d.16xlarge",
    "vcpuNum": 64
   },
   {
    "_defaultOrder": 19,
    "_isFastLaunch": false,
    "category": "General purpose",
    "gpuNum": 0,
    "memoryGiB": 384,
    "name": "ml.m5d.24xlarge",
    "vcpuNum": 96
   },
   {
    "_defaultOrder": 20,
    "_isFastLaunch": true,
    "category": "Compute optimized",
    "gpuNum": 0,
    "memoryGiB": 4,
    "name": "ml.c5.large",
    "vcpuNum": 2
   },
   {
    "_defaultOrder": 21,
    "_isFastLaunch": false,
    "category": "Compute optimized",
    "gpuNum": 0,
    "memoryGiB": 8,
    "name": "ml.c5.xlarge",
    "vcpuNum": 4
   },
   {
    "_defaultOrder": 22,
    "_isFastLaunch": false,
    "category": "Compute optimized",
    "gpuNum": 0,
    "memoryGiB": 16,
    "name": "ml.c5.2xlarge",
    "vcpuNum": 8
   },
   {
    "_defaultOrder": 23,
    "_isFastLaunch": false,
    "category": "Compute optimized",
    "gpuNum": 0,
    "memoryGiB": 32,
    "name": "ml.c5.4xlarge",
    "vcpuNum": 16
   },
   {
    "_defaultOrder": 24,
    "_isFastLaunch": false,
    "category": "Compute optimized",
    "gpuNum": 0,
    "memoryGiB": 72,
    "name": "ml.c5.9xlarge",
    "vcpuNum": 36
   },
   {
    "_defaultOrder": 25,
    "_isFastLaunch": false,
    "category": "Compute optimized",
    "gpuNum": 0,
    "memoryGiB": 96,
    "name": "ml.c5.12xlarge",
    "vcpuNum": 48
   },
   {
    "_defaultOrder": 26,
    "_isFastLaunch": false,
    "category": "Compute optimized",
    "gpuNum": 0,
    "memoryGiB": 144,
    "name": "ml.c5.18xlarge",
    "vcpuNum": 72
   },
   {
    "_defaultOrder": 27,
    "_isFastLaunch": false,
    "category": "Compute optimized",
    "gpuNum": 0,
    "memoryGiB": 192,
    "name": "ml.c5.24xlarge",
    "vcpuNum": 96
   },
   {
    "_defaultOrder": 28,
    "_isFastLaunch": true,
    "category": "Accelerated computing",
    "gpuNum": 1,
    "memoryGiB": 16,
    "name": "ml.g4dn.xlarge",
    "vcpuNum": 4
   },
   {
    "_defaultOrder": 29,
    "_isFastLaunch": false,
    "category": "Accelerated computing",
    "gpuNum": 1,
    "memoryGiB": 32,
    "name": "ml.g4dn.2xlarge",
    "vcpuNum": 8
   },
   {
    "_defaultOrder": 30,
    "_isFastLaunch": false,
    "category": "Accelerated computing",
    "gpuNum": 1,
    "memoryGiB": 64,
    "name": "ml.g4dn.4xlarge",
    "vcpuNum": 16
   },
   {
    "_defaultOrder": 31,
    "_isFastLaunch": false,
    "category": "Accelerated computing",
    "gpuNum": 1,
    "memoryGiB": 128,
    "name": "ml.g4dn.8xlarge",
    "vcpuNum": 32
   },
   {
    "_defaultOrder": 32,
    "_isFastLaunch": false,
    "category": "Accelerated computing",
    "gpuNum": 4,
    "memoryGiB": 192,
    "name": "ml.g4dn.12xlarge",
    "vcpuNum": 48
   },
   {
    "_defaultOrder": 33,
    "_isFastLaunch": false,
    "category": "Accelerated computing",
    "gpuNum": 1,
    "memoryGiB": 256,
    "name": "ml.g4dn.16xlarge",
    "vcpuNum": 64
   },
   {
    "_defaultOrder": 34,
    "_isFastLaunch": false,
    "category": "Accelerated computing",
    "gpuNum": 1,
    "memoryGiB": 61,
    "name": "ml.p3.2xlarge",
    "vcpuNum": 8
   },
   {
    "_defaultOrder": 35,
    "_isFastLaunch": false,
    "category": "Accelerated computing",
    "gpuNum": 4,
    "memoryGiB": 244,
    "name": "ml.p3.8xlarge",
    "vcpuNum": 32
   },
   {
    "_defaultOrder": 36,
    "_isFastLaunch": false,
    "category": "Accelerated computing",
    "gpuNum": 8,
    "memoryGiB": 488,
    "name": "ml.p3.16xlarge",
    "vcpuNum": 64
   },
   {
    "_defaultOrder": 37,
    "_isFastLaunch": false,
    "category": "Accelerated computing",
    "gpuNum": 8,
    "memoryGiB": 768,
    "name": "ml.p3dn.24xlarge",
    "vcpuNum": 96
   },
   {
    "_defaultOrder": 38,
    "_isFastLaunch": false,
    "category": "Memory Optimized",
    "gpuNum": 0,
    "memoryGiB": 16,
    "name": "ml.r5.large",
    "vcpuNum": 2
   },
   {
    "_defaultOrder": 39,
    "_isFastLaunch": false,
    "category": "Memory Optimized",
    "gpuNum": 0,
    "memoryGiB": 32,
    "name": "ml.r5.xlarge",
    "vcpuNum": 4
   },
   {
    "_defaultOrder": 40,
    "_isFastLaunch": false,
    "category": "Memory Optimized",
    "gpuNum": 0,
    "memoryGiB": 64,
    "name": "ml.r5.2xlarge",
    "vcpuNum": 8
   },
   {
    "_defaultOrder": 41,
    "_isFastLaunch": false,
    "category": "Memory Optimized",
    "gpuNum": 0,
    "memoryGiB": 128,
    "name": "ml.r5.4xlarge",
    "vcpuNum": 16
   },
   {
    "_defaultOrder": 42,
    "_isFastLaunch": false,
    "category": "Memory Optimized",
    "gpuNum": 0,
    "memoryGiB": 256,
    "name": "ml.r5.8xlarge",
    "vcpuNum": 32
   },
   {
    "_defaultOrder": 43,
    "_isFastLaunch": false,
    "category": "Memory Optimized",
    "gpuNum": 0,
    "memoryGiB": 384,
    "name": "ml.r5.12xlarge",
    "vcpuNum": 48
   },
   {
    "_defaultOrder": 44,
    "_isFastLaunch": false,
    "category": "Memory Optimized",
    "gpuNum": 0,
    "memoryGiB": 512,
    "name": "ml.r5.16xlarge",
    "vcpuNum": 64
   },
   {
    "_defaultOrder": 45,
    "_isFastLaunch": false,
    "category": "Memory Optimized",
    "gpuNum": 0,
    "memoryGiB": 768,
    "name": "ml.r5.24xlarge",
    "vcpuNum": 96
   },
   {
    "_defaultOrder": 46,
    "_isFastLaunch": false,
    "category": "Accelerated computing",
    "gpuNum": 1,
    "memoryGiB": 16,
    "name": "ml.g5.xlarge",
    "vcpuNum": 4
   },
   {
    "_defaultOrder": 47,
    "_isFastLaunch": false,
    "category": "Accelerated computing",
    "gpuNum": 1,
    "memoryGiB": 32,
    "name": "ml.g5.2xlarge",
    "vcpuNum": 8
   },
   {
    "_defaultOrder": 48,
    "_isFastLaunch": false,
    "category": "Accelerated computing",
    "gpuNum": 1,
    "memoryGiB": 64,
    "name": "ml.g5.4xlarge",
    "vcpuNum": 16
   },
   {
    "_defaultOrder": 49,
    "_isFastLaunch": false,
    "category": "Accelerated computing",
    "gpuNum": 1,
    "memoryGiB": 128,
    "name": "ml.g5.8xlarge",
    "vcpuNum": 32
   },
   {
    "_defaultOrder": 50,
    "_isFastLaunch": false,
    "category": "Accelerated computing",
    "gpuNum": 1,
    "memoryGiB": 256,
    "name": "ml.g5.16xlarge",
    "vcpuNum": 64
   },
   {
    "_defaultOrder": 51,
    "_isFastLaunch": false,
    "category": "Accelerated computing",
    "gpuNum": 4,
    "memoryGiB": 192,
    "name": "ml.g5.12xlarge",
    "vcpuNum": 48
   },
   {
    "_defaultOrder": 52,
    "_isFastLaunch": false,
    "category": "Accelerated computing",
    "gpuNum": 4,
    "memoryGiB": 384,
    "name": "ml.g5.24xlarge",
    "vcpuNum": 96
   },
   {
    "_defaultOrder": 53,
    "_isFastLaunch": false,
    "category": "Accelerated computing",
    "gpuNum": 8,
    "memoryGiB": 768,
    "name": "ml.g5.48xlarge",
    "vcpuNum": 192
   }
  ],
  "instance_type": "ml.g4dn.xlarge",
  "kernelspec": {
   "display_name": "Python 3",
   "language": "python",
   "name": "python3"
  },
  "language_info": {
   "codemirror_mode": {
    "name": "ipython",
    "version": 3
   },
   "file_extension": ".py",
   "mimetype": "text/x-python",
   "name": "python",
   "nbconvert_exporter": "python",
   "pygments_lexer": "ipython3",
   "version": "3.11.3"
  }
 },
 "nbformat": 4,
 "nbformat_minor": 5
}
